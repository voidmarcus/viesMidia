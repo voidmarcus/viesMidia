{
 "cells": [
  {
   "cell_type": "markdown",
   "metadata": {},
   "source": [
    "# Minerador Jornal Estado de São Paulo\n",
    "\n",
    "Esse notebook tem como objetivo explicar o desenvolvimento do script que será utilizado para minerar a capa do jornal físico _Estado de São Paulo_."
   ]
  },
  {
   "cell_type": "markdown",
   "metadata": {},
   "source": [
    "O bloco abaixo apenas importa as bibliotecas utilizadas."
   ]
  },
  {
   "cell_type": "code",
   "execution_count": 5,
   "metadata": {},
   "outputs": [],
   "source": [
    "from selenium import webdriver\n",
    "from selenium.webdriver.common.keys import Keys\n",
    "from bs4 import BeautifulSoup\n",
    "import numpy as np\n",
    "import pandas as pd\n",
    "import time\n",
    "from fake_useragent import UserAgent\n",
    "import matplotlib.pyplot as plt\n",
    "import nltk\n",
    "import re\n",
    "import requests\n",
    "import ast\n",
    "from shapely.geometry import box\n",
    "import shapely\n",
    "from matplotlib import pyplot as plt\n",
    "from matplotlib.collections import PatchCollection\n",
    "from matplotlib.patches import Polygon\n",
    "import unidecode"
   ]
  },
  {
   "cell_type": "markdown",
   "metadata": {},
   "source": [
    "É feito o _request_ da página que contém a capa do dia do jornal _O Estado de São Paulo_ . Para isso utilizamos as bibliotecas _selenium_ e _requests_.\n",
    "\n",
    "Posteriormente utilizamos a biblioteca bs4 para criar o objeto _soup_, que contém o conteúdo HTML da página."
   ]
  },
  {
   "cell_type": "code",
   "execution_count": 28,
   "metadata": {},
   "outputs": [],
   "source": [
    "#________Requests Homepage of the newspapper ____________\n",
    "\n",
    "url = 'http://digital.estadao.com.br/o-estado-de-s-paulo/20180526/'\n",
    "response = webdriver.Chrome('/usr/bin/chromedriver')\n",
    "response.get(url)\n",
    "time.sleep(25)\n",
    "\n",
    "soup = BeautifulSoup(response.page_source, 'html.parser')\n",
    "\n",
    "# Close browser\n",
    "response.close()\n",
    "\n",
    "#print(soup)"
   ]
  },
  {
   "cell_type": "markdown",
   "metadata": {},
   "source": [
    "É importante notar que o código obtido não contém o conteúdo das reportagens. Em vez disso, ele contém vários blocos de _layout_ que possuem cada um: \n",
    "* _article-id_ : número único de identificação de cada reportagem\n",
    "* _page-number_: número de identificaçãoda página\n",
    "* _left_; _top_; _width_; _height_ : 'coordenadas' de _layout_ HTML \n",
    "\n",
    "No código abaixo fazemos a filtragem desses blocos e salvamos em uma lista chamada _dadosArtigosPag1_. Fazemos também uma lista contendo todos os id pertencentes à capa do jornal (idArtigosPag1). "
   ]
  },
  {
   "cell_type": "code",
   "execution_count": 29,
   "metadata": {},
   "outputs": [],
   "source": [
    "dadosArtigos = soup.find_all('div', class_='block' )\n",
    "\n",
    "dadosArtigosPag1 = []\n",
    "idArtigosPag1 = []\n",
    "for artigo in dadosArtigos:\n",
    "    try:\n",
    "        #Only newspaper cover\n",
    "        if artigo.attrs['page-number'] == '1':\n",
    "            dadosArtigosPag1.append(artigo)\n",
    "            try:\n",
    "                idArtigosPag1.append(artigo.attrs['article-id'])\n",
    "            except:\n",
    "                pass\n",
    "            #print (artigo)\n",
    "    except:\n",
    "        pass\n",
    "\n"
   ]
  },
  {
   "cell_type": "markdown",
   "metadata": {},
   "source": [
    "Como existem mais de um bloco para uma mesma *id*, se faz necessário o uso da função _set_ para criar uma lista de _ids_ únicas."
   ]
  },
  {
   "cell_type": "code",
   "execution_count": 30,
   "metadata": {},
   "outputs": [],
   "source": [
    "#only unique ids\n",
    "idArtigosPag1 = set(idArtigosPag1)"
   ]
  },
  {
   "cell_type": "markdown",
   "metadata": {},
   "source": [
    "A partir daqui, toda informação raspada e gerada estará associada a um artigo. Como boa prática de programação, organizaremos essas informações instanciando objetos da classe *artigo*. Está classe está definida abaixo, juntamente com a classe *coordenada*, da qual é dependente."
   ]
  },
  {
   "cell_type": "code",
   "execution_count": 31,
   "metadata": {},
   "outputs": [],
   "source": [
    "class coordenadas:\n",
    "    def __init__(self, left, top, w, h):\n",
    "        self.xmin = float(left)\n",
    "        self.ymin = float(top)\n",
    "        self.xmax = float(left) + float(w)\n",
    "        self.ymax = float(top) + float(h)\n",
    "    def printBlock(self):\n",
    "        print (self.xmin)\n",
    "        print (self.ymin)\n",
    "        print (self.xmax)\n",
    "        print (self.ymax)"
   ]
  },
  {
   "cell_type": "markdown",
   "metadata": {},
   "source": [
    "## Instruções para uso da classe *artigo*\n",
    "\n",
    "### Sintaxe\n",
    "Para instanciar um objeto, utilize a seguinte sintaxe:\n",
    "\n",
    "* instanciaArtigo = artigo(dadosArtigosPag1, '281530816692202')\n",
    "\n",
    "onde: *dadosArtigosPag1* são os vários blocos de layout supra-definidos.\n",
    "          *281530816692202* é o id de um artigo\n",
    "\n",
    "### Atributos\n",
    "#### De interesse para o programador final (usado para extrair informação do artigo)\n",
    "* .id ->\n",
    "* .dadosArtigos -> \n",
    "* .blocos ->\n",
    "* .areaReportagem ->\n",
    "* .url ->\n",
    "\n",
    "#### De interesse do programador back-end (usado para programar os métodos)\n",
    "* .listaCoordenadas ->\n",
    "* .rects ->\n",
    "* .union ->\n",
    "\n",
    "\n",
    "### Métodos\n",
    "* Todos os métodos são programações back-end e não devem ser usados pelo programador final. Exceto o método **.plotAreaUnion()** que pode ser usado para vizualizar a área impressa de uma reportagem.\n"
   ]
  },
  {
   "cell_type": "code",
   "execution_count": 111,
   "metadata": {},
   "outputs": [],
   "source": [
    "#________Class artigo:  ____________\n",
    "\n",
    "class artigo:\n",
    "    \n",
    "    def __init__(self, dadosArtigos, idArtigo):\n",
    "        self.id = idArtigo\n",
    "        self.dadosArtigos = dadosArtigos\n",
    "        self.blocos = self.getBlocos()\n",
    "        self.listaCoordenadas = self.getCoordenadas()\n",
    "        self.rects = self.getListaBox()\n",
    "        union = self.getUnionArea()\n",
    "        self.areaReportagem = union.area/100\n",
    "        self.url = self.getUrl()\n",
    "        self.conteudo = self.getConteudo()\n",
    "    \n",
    "    # Esse metodo retorna os blocos associados ao id do artigo\n",
    "    def getBlocos (self):\n",
    "        blocos = []\n",
    "        for artigo in self.dadosArtigos:\n",
    "            try:\n",
    "                if artigo.attrs['article-id'] == self.id :\n",
    "                    blocos.append(artigo)\n",
    "            except:\n",
    "                pass\n",
    "        return blocos\n",
    "    \n",
    "    def getCoordenadas (self):\n",
    "        listaBlock = []\n",
    "        for bloco in self.blocos:\n",
    "            temp = bloco.attrs['style']\n",
    "            temp = re.split('[, \\-!?:;%]+', temp)\n",
    "            listaBlock.append(coordenadas(temp[5], temp[7], temp[9], temp[11]))\n",
    "        return listaBlock\n",
    "    \n",
    "    def getListaBox (self):\n",
    "        rects = []\n",
    "        for i in range (0, len(self.listaCoordenadas)):\n",
    "            #print(i)\n",
    "            rects.append (box( self.listaCoordenadas[i].xmin,  self.listaCoordenadas[i].ymin,  self.listaCoordenadas[i].xmax,  self.listaCoordenadas[i].ymax))\n",
    "            #print (list(rects[i].exterior.coords))\n",
    "        return rects\n",
    "    \n",
    "    def getUnionArea (self):\n",
    "        a = self.rects[0]\n",
    "        for rect in self.rects:\n",
    "            a = a.union(rect)\n",
    "        union = a\n",
    "        return union\n",
    "    \n",
    "    def plotAreaUnion (self):\n",
    "        # plot the rectangles before and after merging \n",
    "        patches  = PatchCollection([Polygon(a.exterior) for a in self.rects], facecolor='red', linewidth=.5, alpha=.5)\n",
    "        intersect_patch =  PatchCollection([Polygon(self.getUnionArea().exterior)], facecolor='red', linewidth=.5, alpha=.5)\n",
    "        # make figure\n",
    "        fig, ax = plt.subplots(1,2, subplot_kw=dict(aspect='equal'))\n",
    "        ax[0].invert_yaxis()\n",
    "        ax[0].add_collection(patches, autolim=True)\n",
    "        ax[0].autoscale_view()\n",
    "        ax[0].set_title('Blocos Separados')\n",
    "        ax[1].add_collection(intersect_patch, autolim=True)\n",
    "        ax[1].set_title('Blocos Unidos (Area do Artigo)')\n",
    "        ax[1].set_xlim(ax[0].get_xlim())\n",
    "        ax[1].set_ylim(ax[0].get_ylim())\n",
    "        plt.show()\n",
    "        \n",
    "    def getUrl(self):\n",
    "        preUrl = 'https://svc.pressreader.com/se2skyservices/articles/GetItems/?accessToken=qqFXsNdefpOrPBWQoOnLnKzQfV0keocabvJnYTnxhPkAsy4mE2ZRfqE8hHT7kVL2_HhSJsE80g5zb9AXtzfVZg!!&articles='\n",
    "        finalUrl = '&comment=LatestByAll&options=1&viewType=text'\n",
    "        urlReportagen = preUrl + self.id +  finalUrl\n",
    "        return urlReportagen\n",
    "    \n",
    "    \n",
    "    def getConteudo(self):\n",
    "        headers = {'User-Agent': 'Mozilla/5.0 (X11; Linux x86_64) AppleWebKit/537.36 (KHTML, like Gecko) Chrome/65.0.3325.181 Safari/537.36 OPR/52.0.2871.99'}\n",
    "        response = requests.get(self.url, headers=headers)\n",
    "        conteudo = json.loads(response.text)\n",
    "        return conteudo"
   ]
  },
  {
   "cell_type": "markdown",
   "metadata": {},
   "source": [
    "Definida as classes *artigo* e suas dependentes, agora temos que raspar os dados da capa. Para isso, basta ..."
   ]
  },
  {
   "cell_type": "markdown",
   "metadata": {},
   "source": [
    "____________________________________________________________________________________________________________________________\n",
    "\n",
    " <h1><center>Comentado FIM</center></h1>\n",
    "_____________________________________________________________________________________________________________________________\n"
   ]
  },
  {
   "cell_type": "markdown",
   "metadata": {},
   "source": [
    "# Exemplos de uso:\n",
    "\n",
    "### Instanciação do artigo exemplo: "
   ]
  },
  {
   "cell_type": "code",
   "execution_count": 112,
   "metadata": {},
   "outputs": [],
   "source": [
    "artigoExemplo = artigo(dadosArtigosPag1, '281530816692202')"
   ]
  },
  {
   "cell_type": "markdown",
   "metadata": {},
   "source": [
    "### Print da área da reportagem:"
   ]
  },
  {
   "cell_type": "code",
   "execution_count": 113,
   "metadata": {},
   "outputs": [
    {
     "name": "stdout",
     "output_type": "stream",
     "text": [
      "42.573691\n"
     ]
    }
   ],
   "source": [
    "print (artigoExemplo.areaReportagem)"
   ]
  },
  {
   "cell_type": "markdown",
   "metadata": {},
   "source": [
    "### Imprenssão da área da reportagem:"
   ]
  },
  {
   "cell_type": "code",
   "execution_count": 114,
   "metadata": {},
   "outputs": [
    {
     "data": {
      "image/png": "[encoded data removed]",
      "text/plain": [
       "<Figure size 432x288 with 2 Axes>"
      ]
     },
     "metadata": {},
     "output_type": "display_data"
    }
   ],
   "source": [
    "artigoExemplo.plotAreaUnion()"
   ]
  },
  {
   "cell_type": "markdown",
   "metadata": {},
   "source": [
    "### Print da url do artigo:"
   ]
  },
  {
   "cell_type": "code",
   "execution_count": 115,
   "metadata": {
    "scrolled": false
   },
   "outputs": [
    {
     "name": "stdout",
     "output_type": "stream",
     "text": [
      "https://svc.pressreader.com/se2skyservices/articles/GetItems/?accessToken=qqFXsNdefpOrPBWQoOnLnKzQfV0keocabvJnYTnxhPkAsy4mE2ZRfqE8hHT7kVL2_HhSJsE80g5zb9AXtzfVZg!!&articles=281530816692202&comment=LatestByAll&options=1&viewType=text\n"
     ]
    }
   ],
   "source": [
    "print (artigoExemplo.url)"
   ]
  },
  {
   "cell_type": "markdown",
   "metadata": {},
   "source": [
    "### Print do conteúdo do artigo:\n",
    "\n",
    "* É importante notar que esse atributo é provavelmente o mais importante da classe. Nele temos varias informações, como: Título, subtítulo, data, rate, texto, imagem, rank etc.\n",
    "* O conteúdo do atributo está em formato Json e pode ser explorado utilizando a sintaxe padrão da estrutura dicionário do Python."
   ]
  },
  {
   "cell_type": "code",
   "execution_count": 118,
   "metadata": {
    "scrolled": true
   },
   "outputs": [
    {
     "data": {
      "text/plain": [
       "{'Articles': [{'Abstract': None,\n",
       "   'AccessBookmarkId': None,\n",
       "   'AnalyticProfiles': [],\n",
       "   'Annotation': None,\n",
       "   'ArticleId': '281530816692202',\n",
       "   'ArticleType': 0,\n",
       "   'Blocks': [{'Text': 'Uma sequên\\xadcia de quei\\xadxas ig\\xadno\\xadra\\xaddas pe\\xadlo go\\xadver\\xadno, um acor\\xaddo cos\\xadtu\\xadra\\xaddo de última ho\\xadra e a ra\\xaddi\\xadca\\xadli\\xadza\\xadção chan\\xadta\\xadgis\\xadta de uma ca\\xadte\\xadgo\\xadria pa\\xadra\\xadram o Bra\\xadsil. Des\\xadde ou\\xadtu\\xadbro de 2017, o se\\xadtor de trans\\xadpor\\xadtes tem cha\\xadma\\xaddo a aten\\xadção do Pla\\xadnal\\xadto, mas o go\\xadver\\xadno dei\\xadxou o te\\xadma de la\\xaddo. Quan\\xaddo a ne\\xadgo\\xadci\\xada\\xadção foi ini\\xadci\\xada\\xadda, o mo\\xadvi\\xadmen\\xadto já era mai\\xador que os lí\\xadde\\xadres. As\\xadsim, mes\\xadmo de\\xadpois de o go\\xadver\\xadno ce\\xadder aos gre\\xadvis\\xadtas, vá\\xadri\\xados gru\\xadpos in\\xadsis\\xadti\\xadram em blo\\xadque\\xadar es\\xadtra\\xaddas e tor\\xadna\\xadram o País re\\xadfém de seus plei\\xadtos. No Pla\\xadnal\\xadto, a ava\\xadli\\xada\\xadção é de que a Agên\\xadcia Bra\\xadsi\\xadlei\\xadra de Inteligência (Abin) fa\\xadlhou ao não pre\\xadver o al\\xadcan\\xadce do mo\\xadvi\\xadmen\\xadto.',\n",
       "     'Role': 'text'},\n",
       "    {'Text': '“EM 40 ANOS, É A PRI\\xadMEI\\xadRA VEZ QUE VE\\xadJO O CE\\xadA\\xadGESP VA\\xadZIO DES\\xadSA FOR\\xadMA”',\n",
       "     'Role': 'annotation'},\n",
       "    {'Text': 'FRANCISCO JO\\xadNAS DE OLI\\xadVEI\\xadRA, 65 ANOS, CAR\\xadRE\\xadGA\\xadDOR',\n",
       "     'Role': 'annotation'},\n",
       "    {'Text': 'Quan\\xaddo anun\\xadci\\xadou, na noi\\xadte de quin\\xadta-fei\\xadra, um acor\\xaddo com li\\xadde\\xadran\\xadças dos ca\\xadmi\\xadnho\\xadnei\\xadros, em gre\\xadve des\\xadde se\\xadgun\\xadda-fei\\xadra, o go\\xadver\\xadno ima\\xadgi\\xadna\\xadva ter con\\xadse\\xadgui\\xaddo des\\xadmo\\xadbi\\xadli\\xadzar o mo\\xadvi\\xadmen\\xadto. Sex\\xadta-fei\\xadra se\\xadria um dia de es\\xadtra\\xaddas sen\\xaddo des\\xadblo\\xadque\\xada\\xaddas e o abas\\xadte\\xadci\\xadmen\\xadto co\\xadme\\xadçan\\xaddo a se re\\xadgu\\xadla\\xadri\\xadzar. Mas não foi o que se viu. Pe\\xadla ma\\xadnhã, o nú\\xadme\\xadro de pon\\xadtos de blo\\xadqueio che\\xadgou a cres\\xadcer. Com uma li\\xadde\\xadran\\xadça mui\\xadto di\\xadfu\\xadsa, o que se ou\\xadvia dos ca\\xadmi\\xadnho\\xadnei\\xadros pa\\xadra\\xaddos nas es\\xadtra\\xaddas era que o acor\\xaddo fe\\xadcha\\xaddo com o go\\xadver\\xadno não ser\\xadvia.',\n",
       "     'Role': 'text'},\n",
       "    {'Text': 'O qua\\xaddro de ca\\xados que co\\xadme\\xadçou a se for\\xadmar no iní\\xadcio da se\\xadma\\xadna se agra\\xadvou. Em to\\xaddo o País, pos\\xadtos de ga\\xadso\\xadli\\xadna fe\\xadcha\\xadram, por ab\\xadso\\xadlu\\xadta fal\\xadta de com\\xadbus\\xadtí\\xadvel. Sem con\\xadse\\xadguir ro\\xaddar, ôni\\xadbus fi\\xadca\\xadram nas ga\\xadra\\xadgens. Sem in\\xadsu\\xadmos, fá\\xadbri\\xadcas fe\\xadcha\\xadram. Me\\xaddi\\xadca\\xadmen\\xadtos e ali\\xadmen\\xadtos co\\xadme\\xadçam a fal\\xadtar em far\\xadmá\\xadci\\xadas e su\\xadper\\xadmer\\xadca\\xaddos. Hos\\xadpi\\xadtais che\\xadga\\xadram a can\\xadce\\xadlar ci\\xadrur\\xadgi\\xadas.',\n",
       "     'Role': 'text'},\n",
       "    {'Text': 'Acu\\xada\\xaddo, o go\\xadver\\xadno re\\xadsol\\xadveu ape\\xadlar às forças de se\\xadgu\\xadran\\xadça, que in\\xadclu\\xadem Forças Ar\\xadma\\xaddas e a po\\xadlí\\xadcia, pa\\xadra des\\xadblo\\xadque\\xadar es\\xadtra\\xaddas. “Co\\xadmu\\xadni\\xadco que aci\\xado\\xadnei as forças fe\\xadde\\xadrais de se\\xadgu\\xadran\\xadça pa\\xadra des\\xadblo\\xadque\\xadar as es\\xadtra\\xaddas e so\\xadli\\xadci\\xadto que os go\\xadver\\xadna\\xaddo\\xadres fa\\xadçam o mes\\xadmo. Não va\\xadmos per\\xadmi\\xadtir que po\\xadpu\\xadla\\xadção fi\\xadque sem itens de pri\\xadmei\\xadra ne\\xadces\\xadsi\\xadda\\xadde, que con\\xadsu\\xadmi\\xaddo\\xadres fi\\xadquem sem pro\\xaddu\\xadto, que hos\\xadpi\\xadtais não fun\\xadci\\xado\\xadnem”, afir\\xadmou o pre\\xadsi\\xadden\\xadte Mi\\xadchel Te\\xadmer, em pro\\xadnun\\xadci\\xada\\xadmen\\xadto. “Go\\xadver\\xadno te\\xadve co\\xadra\\xadgem de di\\xada\\xadlo\\xadgar e te\\xadrá co\\xadra\\xadgem ago\\xadra de exer\\xadcer sua au\\xadto\\xadri\\xadda\\xadde di\\xadan\\xadte do po\\xadvo.”',\n",
       "     'Role': 'text'},\n",
       "    {'Text': 'Li\\xadbe\\xadra\\xadção. De\\xadpois do anún\\xadcio fei\\xadto pe\\xadlo go\\xadver\\xadno, a As\\xadso\\xadci\\xada\\xadção Bra\\xadsi\\xadlei\\xadra dos Ca\\xadmi\\xadnho\\xadnei\\xadros (Ab\\xadcam), a prin\\xadci\\xadpal entidade con\\xadtrá\\xadria ao acor\\xaddo com o go\\xadver\\xadno fe\\xadde\\xadral, pe\\xaddiu aos mo\\xadto\\xadris\\xadtas que li\\xadbe\\xadrem as ro\\xaddo\\xadvi\\xadas in\\xadter\\xaddi\\xadta\\xaddas. “Preocupada com a se\\xadgu\\xadran\\xadça dos ca\\xadmi\\xadnho\\xadnei\\xadros en\\xadvol\\xadvi\\xaddos, a Ab\\xadcam vem pu\\xadbli\\xadca\\xadmen\\xadte pe\\xaddir que re\\xadti\\xadrem as in\\xadter\\xaddi\\xadções nas ro\\xaddo\\xadvi\\xadas”, dis\\xadse, em no\\xadta dis\\xadtri\\xadbuí\\xadda à imprensa. A entidade su\\xadge\\xadriu, po\\xadrém, que con\\xadti\\xadnu\\xadem as ma\\xadni\\xadfes\\xadta\\xadções de for\\xadma pa\\xadcí\\xadfi\\xadca, sem obs\\xadtru\\xadção das vi\\xadas.',\n",
       "     'Role': 'text'},\n",
       "    {'Text': 'Mes\\xadmo com a convocação das forças de se\\xadgu\\xadran\\xadça, mi\\xadnis\\xadtros ad\\xadmi\\xadti\\xadram que a di\\xadmi\\xadnui\\xadção dos blo\\xadquei\\xados se\\xadrá len\\xadta e de\\xadve con\\xadti\\xadnu\\xadar nos pró\\xadxi\\xadmos di\\xadas. Da\\xaddos da Po\\xadlí\\xadcia Fe\\xadde\\xadral apon\\xadta\\xadvam, on\\xadtem à noi\\xadte, que o País che\\xadgou a ter nos úl\\xadti\\xadmos di\\xadas até 938 in\\xadter\\xadrup\\xadções em es\\xadtra\\xaddas. Des\\xadsas, 419 fo\\xadram li\\xadbe\\xadra\\xaddas des\\xadde a quin\\xadta-fei\\xadra e res\\xadta\\xadvam 519. To\\xaddas as in\\xadter\\xaddi\\xadções de ro\\xaddo\\xadvi\\xadas são par\\xadci\\xadais.',\n",
       "     'Role': 'text'},\n",
       "    {'Text': 'O mi\\xadnis\\xadtro da Ca\\xadsa Ci\\xadvil, Eli\\xadseu Padilha, dis\\xadse que, após acor\\xaddo fir\\xadma\\xaddo en\\xadtre o go\\xadver\\xadno e entidades, a pa\\xadra\\xadli\\xadsa\\xadção já ha\\xadvia atin\\xadgi\\xaddo “seus ob\\xadje\\xadti\\xadvos e foi exi\\xadto\\xadsa”. “O go\\xadver\\xadno ne\\xadgo\\xadci\\xadou, mas go\\xadver\\xadno não po\\xadde fu\\xadgir da res\\xadpon\\xadsa\\xadbi\\xadli\\xadda\\xadde que tem de ga\\xadran\\xadtir o abas\\xadte\\xadci\\xadmen\\xadto pa\\xadra os bra\\xadsi\\xadlei\\xadros”, de\\xadcla\\xadrou.',\n",
       "     'Role': 'text'}],\n",
       "   'BookmarkId': None,\n",
       "   'Byline': '',\n",
       "   'Comment': None,\n",
       "   'ContinuedFromPage': 0,\n",
       "   'ContinuedFromPageName': None,\n",
       "   'CurrentTextLength': 3852,\n",
       "   'HateItVotes': 10,\n",
       "   'CurrentUserVote': 0,\n",
       "   'HyphenatedTitle': 'POR QUE PA\\xadROU',\n",
       "   'Id': '281530816692202',\n",
       "   'Images': [{'Byline': '',\n",
       "     'Copyright': '',\n",
       "     'Height': 442,\n",
       "     'Id': 1825520824,\n",
       "     'Subtitle': '',\n",
       "     'Text': None,\n",
       "     'Title': '',\n",
       "     'Url': 'https://cdn-img.pressreader.com/pressdisplay/docserver/getimage.aspx?regionKey=hPn0CaOucDB7ynYQnOcchg%3d%3d',\n",
       "     'Width': 665}],\n",
       "   'IsHyphenated': True,\n",
       "   'Issue': {'Date': '20180526',\n",
       "    'FirstPageSize': {'Height': 1208, 'Width': 711},\n",
       "    'Id': '20252018052600000000001001',\n",
       "    'ShortDateString': '26 May 2018',\n",
       "    'Title': 'O Estado de S. Paulo.'},\n",
       "   'LabelBookmarkId': None,\n",
       "   'Language': 'pt',\n",
       "   'LikeItVotes': 38,\n",
       "   'OriginalLanguage': 'pt',\n",
       "   'Page': 1,\n",
       "   'PageName': 'A1',\n",
       "   'PostsCount': 0,\n",
       "   'PotentiallyAllowedToRead': True,\n",
       "   'Rank': 5,\n",
       "   'Rate': 17.99,\n",
       "   'Section': 'Primeira Página',\n",
       "   'SimilarsCount': 10,\n",
       "   'StartBlockIdx': 0,\n",
       "   'Subtitle': 'Por\\xadque os ca\\xadmi\\xadnho\\xadnei\\xadros fi\\xadze\\xadram chan\\xadta\\xadgem com o País Por\\xadque o go\\xadver\\xadno foi incompetente ao de\\xadmo\\xadrar pa\\xadra agir Por\\xadque o Con\\xadgres\\xadso op\\xadtou pe\\xadlo opor\\xadtu\\xadnis\\xadmo elei\\xadto\\xadral Por\\xadque o Bra\\xadsil é de\\xadpen\\xadden\\xadte das ro\\xaddo\\xadvi\\xadas e dos ca\\xadmi\\xadnhões Por\\xadque os go\\xadver\\xadna\\xaddo\\xadres fo\\xadram omis\\xadsos',\n",
       "   'Title': 'POR QUE PAROU',\n",
       "   'Uid': '1268e46e-820c-41e0-9abd-543c7aeda2f4',\n",
       "   'Related': None,\n",
       "   'Videos': None,\n",
       "   'Source': None,\n",
       "   'Authors': None}],\n",
       " 'Pages': []}"
      ]
     },
     "execution_count": 118,
     "metadata": {},
     "output_type": "execute_result"
    }
   ],
   "source": [
    "artigoExemplo.conteudo"
   ]
  },
  {
   "cell_type": "markdown",
   "metadata": {},
   "source": [
    "Vale resaltar que embora o encoding acima apresente erro, ao *printar* um dado específico o mesmo não é um problema. Ex:\n",
    "\n",
    "*Print* do primeiro parágrafo do artigo inicial: "
   ]
  },
  {
   "cell_type": "code",
   "execution_count": 119,
   "metadata": {},
   "outputs": [
    {
     "name": "stdout",
     "output_type": "stream",
     "text": [
      "Uma sequên­cia de quei­xas ig­no­ra­das pe­lo go­ver­no, um acor­do cos­tu­ra­do de última ho­ra e a ra­di­ca­li­za­ção chan­ta­gis­ta de uma ca­te­go­ria pa­ra­ram o Bra­sil. Des­de ou­tu­bro de 2017, o se­tor de trans­por­tes tem cha­ma­do a aten­ção do Pla­nal­to, mas o go­ver­no dei­xou o te­ma de la­do. Quan­do a ne­go­ci­a­ção foi ini­ci­a­da, o mo­vi­men­to já era mai­or que os lí­de­res. As­sim, mes­mo de­pois de o go­ver­no ce­der aos gre­vis­tas, vá­ri­os gru­pos in­sis­ti­ram em blo­que­ar es­tra­das e tor­na­ram o País re­fém de seus plei­tos. No Pla­nal­to, a ava­li­a­ção é de que a Agên­cia Bra­si­lei­ra de Inteligência (Abin) fa­lhou ao não pre­ver o al­can­ce do mo­vi­men­to.\n"
     ]
    }
   ],
   "source": [
    "dados = response.json()\n",
    "\n",
    "print(artigoExemplo.conteudo['Articles'][0]['Blocks'][0]['Text'])"
   ]
  },
  {
   "cell_type": "markdown",
   "metadata": {},
   "source": [
    "____________________________________________________________________________________________________________________________\n",
    "\n",
    " <h1><center>Ainda em construção:</center></h1>\n",
    "_____________________________________________________________________________________________________________________________"
   ]
  },
  {
   "cell_type": "markdown",
   "metadata": {},
   "source": [
    "## Exportação\n",
    "\n",
    "Para finalizar é necessário a exportação dos dados para o Banco de Dados. Para isso precisaremos..."
   ]
  },
  {
   "cell_type": "code",
   "execution_count": 120,
   "metadata": {},
   "outputs": [
    {
     "data": {
      "text/html": [
       "<div>\n",
       "<style scoped>\n",
       "    .dataframe tbody tr th:only-of-type {\n",
       "        vertical-align: middle;\n",
       "    }\n",
       "\n",
       "    .dataframe tbody tr th {\n",
       "        vertical-align: top;\n",
       "    }\n",
       "\n",
       "    .dataframe thead th {\n",
       "        text-align: right;\n",
       "    }\n",
       "</style>\n",
       "<table border=\"1\" class=\"dataframe\">\n",
       "  <thead>\n",
       "    <tr style=\"text-align: right;\">\n",
       "      <th></th>\n",
       "      <th>Data</th>\n",
       "      <th>Horário</th>\n",
       "      <th>Nome do veículo da notícia</th>\n",
       "      <th>Tipo do veículo da notícia</th>\n",
       "      <th>Manchete</th>\n",
       "      <th>Sub-título</th>\n",
       "      <th>Texto</th>\n",
       "      <th>Tema</th>\n",
       "      <th>Assunto (Tags)</th>\n",
       "      <th>Relacionamento</th>\n",
       "      <th>...</th>\n",
       "      <th>Personagem Principal</th>\n",
       "      <th>Foto</th>\n",
       "      <th>Tamanho do tempo da notícia</th>\n",
       "      <th>Tamanho (Proporção)</th>\n",
       "      <th>Jornalista reponsável pela notícia</th>\n",
       "      <th>Valência 1 (Primeiro Avaliador)</th>\n",
       "      <th>Valência 1 (Segundo Avaliador)</th>\n",
       "      <th>Valência 2 (Primeiro Avaliador)</th>\n",
       "      <th>Valência 2 (Segundo Avaliador)</th>\n",
       "      <th>Observações</th>\n",
       "    </tr>\n",
       "    <tr>\n",
       "      <th>Nome</th>\n",
       "      <th></th>\n",
       "      <th></th>\n",
       "      <th></th>\n",
       "      <th></th>\n",
       "      <th></th>\n",
       "      <th></th>\n",
       "      <th></th>\n",
       "      <th></th>\n",
       "      <th></th>\n",
       "      <th></th>\n",
       "      <th></th>\n",
       "      <th></th>\n",
       "      <th></th>\n",
       "      <th></th>\n",
       "      <th></th>\n",
       "      <th></th>\n",
       "      <th></th>\n",
       "      <th></th>\n",
       "      <th></th>\n",
       "      <th></th>\n",
       "      <th></th>\n",
       "    </tr>\n",
       "  </thead>\n",
       "  <tbody>\n",
       "  </tbody>\n",
       "</table>\n",
       "<p>0 rows × 21 columns</p>\n",
       "</div>"
      ],
      "text/plain": [
       "Empty DataFrame\n",
       "Columns: [Data , Horário , Nome do veículo da notícia, Tipo do veículo da notícia, Manchete, Sub-título, Texto, Tema, Assunto (Tags), Relacionamento, Personagem, Personagem Principal, Foto, Tamanho do tempo da notícia, Tamanho (Proporção), Jornalista reponsável pela notícia, Valência 1 (Primeiro Avaliador), Valência 1 (Segundo Avaliador), Valência 2 (Primeiro Avaliador), Valência 2 (Segundo Avaliador), Observações]\n",
       "Index: []\n",
       "\n",
       "[0 rows x 21 columns]"
      ]
     },
     "execution_count": 120,
     "metadata": {},
     "output_type": "execute_result"
    }
   ],
   "source": [
    "test = pd.read_csv('https://docs.google.com/spreadsheet/ccc?key=1Rf2ZGMcmbei0JR4OPcHrMsDNQIusnWsfMtqgGQiQ6qI&output=csv',\n",
    "                   # Set first column as rownames in data frame\n",
    "                   index_col=0,\n",
    "                  )\n",
    "test.head(5)  # Same result as @TomAugspurger"
   ]
  },
  {
   "cell_type": "markdown",
   "metadata": {},
   "source": [
    "## Anotações que podem ser interessantes:"
   ]
  },
  {
   "cell_type": "markdown",
   "metadata": {},
   "source": [
    "### Links interessantes\n",
    "\n",
    "https://svc.pressreader.com/se2skyservices/pagesMetadata/?accessToken=nGZdrggOA-3icLrzAVChepbp4pDpZWemMLpA61PK4Rm_w2Y5OwbqS5zgElyc8uHdr31BN_ULTJiJ4vhLGGgqXw!!&issue=20252018052600000000001001&pageNumbers=1%2C2%2C3\n",
    "\n"
   ]
  },
  {
   "cell_type": "code",
   "execution_count": null,
   "metadata": {},
   "outputs": [],
   "source": []
  }
 ],
 "metadata": {
  "kernelspec": {
   "display_name": "Python 3",
   "language": "python",
   "name": "python3"
  },
  "language_info": {
   "codemirror_mode": {
    "name": "ipython",
    "version": 3
   },
   "file_extension": ".py",
   "mimetype": "text/x-python",
   "name": "python",
   "nbconvert_exporter": "python",
   "pygments_lexer": "ipython3",
   "version": "3.6.5"
  }
 },
 "nbformat": 4,
 "nbformat_minor": 2
}
